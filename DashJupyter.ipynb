{
 "cells": [
  {
   "cell_type": "markdown",
   "metadata": {
    "extensions": {
     "jupyter_dashboards": {
      "version": 1,
      "views": {
       "grid_default": {
        "col": 3,
        "height": 3,
        "hidden": false,
        "row": 0,
        "width": 7
       },
       "report_default": {}
      }
     }
    }
   },
   "source": [
    "# Data Analysis of  Home Health Care CAHPS Survey"
   ]
  },
  {
   "cell_type": "markdown",
   "metadata": {
    "extensions": {
     "jupyter_dashboards": {
      "version": 1,
      "views": {
       "grid_default": {
        "col": 1,
        "height": 2,
        "hidden": false,
        "row": 5,
        "width": 11
       },
       "report_default": {}
      }
     }
    }
   },
   "source": [
    "##        [1]Descriptive Analysis\n"
   ]
  },
  {
   "cell_type": "markdown",
   "metadata": {
    "extensions": {
     "jupyter_dashboards": {
      "version": 1,
      "views": {
       "grid_default": {
        "col": 0,
        "height": 2,
        "hidden": false,
        "row": 77,
        "width": 12
       },
       "report_default": {}
      }
     }
    }
   },
   "source": [
    "## [2]Choropleth(Map)"
   ]
  },
  {
   "cell_type": "markdown",
   "metadata": {
    "extensions": {
     "jupyter_dashboards": {
      "version": 1,
      "views": {
       "grid_default": {
        "col": 0,
        "height": 3,
        "hidden": false,
        "row": 100,
        "width": 12
       },
       "report_default": {}
      }
     }
    }
   },
   "source": [
    "## [3]Tendency Analysis"
   ]
  },
  {
   "cell_type": "markdown",
   "metadata": {
    "extensions": {
     "jupyter_dashboards": {
      "version": 1,
      "views": {
       "grid_default": {
        "col": 1,
        "height": 2,
        "hidden": false,
        "row": 3,
        "width": 11
       },
       "report_default": {}
      }
     }
    }
   },
   "source": [
    "<img src=\"IMG/line.jpg\">"
   ]
  },
  {
   "cell_type": "markdown",
   "metadata": {
    "extensions": {
     "jupyter_dashboards": {
      "version": 1,
      "views": {
       "grid_default": {
        "col": 0,
        "height": 4,
        "hidden": false,
        "row": 96,
        "width": 12
       },
       "report_default": {}
      }
     }
    }
   },
   "source": [
    "<img src=\"IMG/line.jpg\">"
   ]
  },
  {
   "cell_type": "markdown",
   "metadata": {
    "extensions": {
     "jupyter_dashboards": {
      "version": 1,
      "views": {
       "grid_default": {
        "col": 0,
        "height": 3,
        "hidden": false,
        "row": 74,
        "width": 12
       },
       "report_default": {}
      }
     }
    }
   },
   "source": [
    "<img src=\"IMG/line.jpg\">"
   ]
  },
  {
   "cell_type": "markdown",
   "metadata": {
    "extensions": {
     "jupyter_dashboards": {
      "version": 1,
      "views": {
       "grid_default": {
        "col": 0,
        "height": 4,
        "hidden": true,
        "row": 95,
        "width": 4
       },
       "report_default": {}
      }
     }
    }
   },
   "source": [
    "# 1) Import  Libraries\n"
   ]
  },
  {
   "cell_type": "code",
   "execution_count": 1,
   "metadata": {
    "collapsed": true,
    "extensions": {
     "jupyter_dashboards": {
      "version": 1,
      "views": {
       "grid_default": {
        "hidden": true
       },
       "report_default": {}
      }
     }
    }
   },
   "outputs": [],
   "source": [
    "import pandas as pd\n",
    "import numpy as np\n",
    "pd.set_option('display.max_columns', None)\n",
    "import matplotlib.pyplot as plt\n",
    "%matplotlib inline\n",
    "import plotly.plotly as py\n",
    "import plotly.tools as tls\n",
    "from ipywidgets import interact\n",
    "import ipywidgets as widgets\n",
    "from IPython.display import display\n",
    "tls.set_credentials_file(username=\"LibardoMunoz\",api_key=\"l3g2FTXhyP1hPPu0oU10\")\n",
    "\n",
    "from sklearn.preprocessing import StandardScaler\n",
    "from sklearn.decomposition import PCA\n",
    "\n"
   ]
  },
  {
   "cell_type": "markdown",
   "metadata": {
    "extensions": {
     "jupyter_dashboards": {
      "version": 1,
      "views": {
       "grid_default": {
        "col": 4,
        "height": 4,
        "hidden": true,
        "row": 95,
        "width": 4
       },
       "report_default": {}
      }
     }
    }
   },
   "source": [
    "# 2) Load Datasets, datacleaning and visualization"
   ]
  },
  {
   "cell_type": "markdown",
   "metadata": {
    "extensions": {
     "jupyter_dashboards": {
      "version": 1,
      "views": {
       "grid_default": {
        "col": 8,
        "height": 4,
        "hidden": true,
        "row": 95,
        "width": 4
       },
       "report_default": {}
      }
     }
    }
   },
   "source": [
    "## 2.1) HHCAHPS_PRVDR"
   ]
  },
  {
   "cell_type": "markdown",
   "metadata": {
    "extensions": {
     "jupyter_dashboards": {
      "version": 1,
      "views": {
       "grid_default": {
        "col": 4,
        "height": 4,
        "hidden": true,
        "row": 95,
        "width": 4
       },
       "report_default": {}
      }
     }
    }
   },
   "source": [
    "### 2.1.1) Cleaning and first Insight"
   ]
  },
  {
   "cell_type": "code",
   "execution_count": 2,
   "metadata": {
    "extensions": {
     "jupyter_dashboards": {
      "version": 1,
      "views": {
       "grid_default": {
        "col": 6,
        "height": 92,
        "hidden": true,
        "row": 123,
        "width": 4
       },
       "report_default": {}
      }
     }
    }
   },
   "outputs": [
    {
     "name": "stdout",
     "output_type": "stream",
     "text": [
      "<class 'pandas.core.frame.DataFrame'>\n",
      "RangeIndex: 11801 entries, 0 to 11800\n",
      "Data columns (total 39 columns):\n",
      "State                                                                                                                              11801 non-null object\n",
      "CMS Certification Number (CCN)                                                                                                     11801 non-null int64\n",
      "Provider Name                                                                                                                      11801 non-null object\n",
      "Address                                                                                                                            11801 non-null object\n",
      "City                                                                                                                               11801 non-null object\n",
      "Zip                                                                                                                                11801 non-null int64\n",
      "Phone                                                                                                                              11801 non-null int64\n",
      "Type of Ownership                                                                                                                  11801 non-null object\n",
      "Offers Nursing Care Services                                                                                                       11801 non-null object\n",
      "Offers Physical Therapy Services                                                                                                   11801 non-null object\n",
      "Offers Occupational Therapy Services                                                                                               11801 non-null object\n",
      "Offers Speech Pathology Services                                                                                                   11801 non-null object\n",
      "Offers Medical Social Services                                                                                                     11801 non-null object\n",
      "Offers Home Health Aide Services                                                                                                   11801 non-null object\n",
      "Date Certified                                                                                                                     11801 non-null object\n",
      "HHCAHPS Survey Summary Star Rating                                                                                                 11801 non-null object\n",
      "Footnote HHCAHPS Survey Summary Star Rating                                                                                        8241 non-null object\n",
      "Star Rating for health team gave care in a professional way                                                                        11801 non-null object\n",
      "Footnote for Star Rating for gave care in a professional way                                                                       8241 non-null object\n",
      "Percent of patients who reported that their home health team gave care in a professional way                                       11801 non-null object\n",
      "Footnote for Percent of patients who reported that their home health team gave care in a professional way                          8241 non-null object\n",
      "Star Rating for health team communicated well with them                                                                            11801 non-null object\n",
      "Footnote for Star Rating for communicated well with them                                                                           8241 non-null object\n",
      "Percent of patients who reported that their home health team communicated well with them                                           11801 non-null object\n",
      "Footnote for Percent of patients who reported that their home health team communicated well with them                              8241 non-null object\n",
      "Star Rating team discussed medicines, pain, and home safety                                                                        11801 non-null object\n",
      "Footnote Star Rating discussed medicines, pain, home safety                                                                        8241 non-null object\n",
      "Percent of patients who reported that their home health team discussed medicines, pain, and home safety with them                  11801 non-null object\n",
      "Footnote for Percent of patients who reported that their home health team discussed medicines, pain, and home safety with them     8241 non-null object\n",
      "Star Rating for how patients rated overall care from agency                                                                        11801 non-null object\n",
      "Footnote for Star Rating for overall care from agency                                                                              8241 non-null object\n",
      "Percent of patients who gave their home health agency a rating of 9 or 10 on a scale from 0 (lowest) to 10 (highest)               11801 non-null object\n",
      "Footnote for Percent of patients who gave their home health agency a rating of 9 or 10 on a scale from 0(lowest) to 10(highest)    8241 non-null object\n",
      "Percent of patients who reported YES, they would definitely recommend the home health agency to friends and family                 11801 non-null object\n",
      "Footnote for Percent of patients who reported YES, they would definitely recommend the home health agency to friends and family    8241 non-null object\n",
      "Number of completed Surveys                                                                                                        11801 non-null object\n",
      "Footnote for number of completed surveys                                                                                           8241 non-null object\n",
      "Response rate                                                                                                                      11801 non-null object\n",
      "Footnote for response rate                                                                                                         8241 non-null object\n",
      "dtypes: int64(3), object(36)\n",
      "memory usage: 3.5+ MB\n"
     ]
    }
   ],
   "source": [
    "HHCAHPS_PRVDR=pd.read_csv('HHCAHPS_PRVDR.csv',encoding = \"ISO-8859-1\")\n",
    "HHCAHPS_PRVDR.info()"
   ]
  },
  {
   "cell_type": "code",
   "execution_count": 3,
   "metadata": {
    "extensions": {
     "jupyter_dashboards": {
      "version": 1,
      "views": {
       "grid_default": {
        "col": 0,
        "height": 14,
        "hidden": true,
        "row": 0,
        "width": 12
       },
       "report_default": {}
      }
     }
    }
   },
   "outputs": [
    {
     "data": {
      "text/html": [
       "<div>\n",
       "<style>\n",
       "    .dataframe thead tr:only-child th {\n",
       "        text-align: right;\n",
       "    }\n",
       "\n",
       "    .dataframe thead th {\n",
       "        text-align: left;\n",
       "    }\n",
       "\n",
       "    .dataframe tbody tr th {\n",
       "        vertical-align: top;\n",
       "    }\n",
       "</style>\n",
       "<table border=\"1\" class=\"dataframe\">\n",
       "  <thead>\n",
       "    <tr style=\"text-align: right;\">\n",
       "      <th></th>\n",
       "      <th>State</th>\n",
       "      <th>Provider Name</th>\n",
       "      <th>City</th>\n",
       "      <th>Type of Ownership</th>\n",
       "      <th>Offers Nursing Care Services</th>\n",
       "      <th>Offers Physical Therapy Services</th>\n",
       "      <th>Offers Occupational Therapy Services</th>\n",
       "      <th>Offers Speech Pathology Services</th>\n",
       "      <th>Offers Medical Social Services</th>\n",
       "      <th>Offers Home Health Aide Services</th>\n",
       "      <th>HHCAHPS Survey Summary Star Rating</th>\n",
       "      <th>Star Rating for health team gave care in a professional way</th>\n",
       "      <th>Percent of patients who reported that their home health team gave care in a professional way</th>\n",
       "      <th>Star Rating for health team communicated well with them</th>\n",
       "      <th>Percent of patients who reported that their home health team communicated well with them</th>\n",
       "      <th>Star Rating team discussed medicines, pain, and home safety</th>\n",
       "      <th>Percent of patients who reported that their home health team discussed medicines, pain, and home safety with them</th>\n",
       "      <th>Star Rating for how patients rated overall care from agency</th>\n",
       "      <th>Percent of patients who gave their home health agency a rating of 9 or 10 on a scale from 0 (lowest) to 10 (highest)</th>\n",
       "      <th>Percent of patients who reported YES, they would definitely recommend the home health agency to friends and family</th>\n",
       "      <th>Number of completed Surveys</th>\n",
       "      <th>Response rate</th>\n",
       "    </tr>\n",
       "  </thead>\n",
       "  <tbody>\n",
       "    <tr>\n",
       "      <th>0</th>\n",
       "      <td>AL</td>\n",
       "      <td>BUREAU OF HOME &amp; COMMUNITY SERVICES           ...</td>\n",
       "      <td>MONTGOMERY</td>\n",
       "      <td>Official Health Agency</td>\n",
       "      <td>Yes</td>\n",
       "      <td>Yes</td>\n",
       "      <td>Yes</td>\n",
       "      <td>Yes</td>\n",
       "      <td>Yes</td>\n",
       "      <td>Yes</td>\n",
       "      <td>NaN</td>\n",
       "      <td>NaN</td>\n",
       "      <td>NaN</td>\n",
       "      <td>NaN</td>\n",
       "      <td>NaN</td>\n",
       "      <td>NaN</td>\n",
       "      <td>NaN</td>\n",
       "      <td>NaN</td>\n",
       "      <td>NaN</td>\n",
       "      <td>NaN</td>\n",
       "      <td>NaN</td>\n",
       "      <td>NaN</td>\n",
       "    </tr>\n",
       "    <tr>\n",
       "      <th>1</th>\n",
       "      <td>AL</td>\n",
       "      <td>JEFFERSON COUNTY HOME CARE                    ...</td>\n",
       "      <td>BESSEMER</td>\n",
       "      <td>Official Health Agency</td>\n",
       "      <td>Yes</td>\n",
       "      <td>Yes</td>\n",
       "      <td>Yes</td>\n",
       "      <td>Yes</td>\n",
       "      <td>Yes</td>\n",
       "      <td>Yes</td>\n",
       "      <td>4.0</td>\n",
       "      <td>4.0</td>\n",
       "      <td>91.0</td>\n",
       "      <td>4.0</td>\n",
       "      <td>89.0</td>\n",
       "      <td>5.0</td>\n",
       "      <td>88.0</td>\n",
       "      <td>2.0</td>\n",
       "      <td>87.0</td>\n",
       "      <td>81.0</td>\n",
       "      <td>44.0</td>\n",
       "      <td>19.0</td>\n",
       "    </tr>\n",
       "  </tbody>\n",
       "</table>\n",
       "</div>"
      ],
      "text/plain": [
       "  State                                      Provider Name  \\\n",
       "0    AL  BUREAU OF HOME & COMMUNITY SERVICES           ...   \n",
       "1    AL  JEFFERSON COUNTY HOME CARE                    ...   \n",
       "\n",
       "                   City       Type of Ownership Offers Nursing Care Services  \\\n",
       "0  MONTGOMERY            Official Health Agency                          Yes   \n",
       "1  BESSEMER              Official Health Agency                          Yes   \n",
       "\n",
       "  Offers Physical Therapy Services Offers Occupational Therapy Services  \\\n",
       "0                              Yes                                  Yes   \n",
       "1                              Yes                                  Yes   \n",
       "\n",
       "  Offers Speech Pathology Services Offers Medical Social Services  \\\n",
       "0                              Yes                            Yes   \n",
       "1                              Yes                            Yes   \n",
       "\n",
       "  Offers Home Health Aide Services  HHCAHPS Survey Summary Star Rating  \\\n",
       "0                              Yes                                 NaN   \n",
       "1                              Yes                                 4.0   \n",
       "\n",
       "   Star Rating for health team gave care in a professional way  \\\n",
       "0                                                NaN             \n",
       "1                                                4.0             \n",
       "\n",
       "   Percent of patients who reported that their home health team gave care in a professional way  \\\n",
       "0                                                NaN                                              \n",
       "1                                               91.0                                              \n",
       "\n",
       "   Star Rating for health team communicated well with them  \\\n",
       "0                                                NaN         \n",
       "1                                                4.0         \n",
       "\n",
       "   Percent of patients who reported that their home health team communicated well with them  \\\n",
       "0                                                NaN                                          \n",
       "1                                               89.0                                          \n",
       "\n",
       "   Star Rating team discussed medicines, pain, and home safety  \\\n",
       "0                                                NaN             \n",
       "1                                                5.0             \n",
       "\n",
       "   Percent of patients who reported that their home health team discussed medicines, pain, and home safety with them  \\\n",
       "0                                                NaN                                                                   \n",
       "1                                               88.0                                                                   \n",
       "\n",
       "   Star Rating for how patients rated overall care from agency  \\\n",
       "0                                                NaN             \n",
       "1                                                2.0             \n",
       "\n",
       "   Percent of patients who gave their home health agency a rating of 9 or 10 on a scale from 0 (lowest) to 10 (highest)  \\\n",
       "0                                                NaN                                                                      \n",
       "1                                               87.0                                                                      \n",
       "\n",
       "   Percent of patients who reported YES, they would definitely recommend the home health agency to friends and family  \\\n",
       "0                                                NaN                                                                    \n",
       "1                                               81.0                                                                    \n",
       "\n",
       "   Number of completed Surveys  Response rate  \n",
       "0                          NaN            NaN  \n",
       "1                         44.0           19.0  "
      ]
     },
     "execution_count": 3,
     "metadata": {},
     "output_type": "execute_result"
    }
   ],
   "source": [
    "HHCAHPS_PRVDR=pd.read_csv('HHCAHPS_PRVDR.csv',encoding = \"ISO-8859-1\")\n",
    "HHCAHPS_PRVDR=HHCAHPS_PRVDR.drop(HHCAHPS_PRVDR.columns[[1,3,5,6,14,16,18,20,22,24,26,28,30,32,34,36,38]],1)\n",
    "HHCAHPS_PRVDR.replace('Not Available',np.nan, inplace=True)\n",
    "HHCAHPS_PRVDR=HHCAHPS_PRVDR.iloc[:,:].apply(pd.to_numeric, errors='ignore')\n",
    "HHCAHPS_PRVDR.head(2)"
   ]
  },
  {
   "cell_type": "markdown",
   "metadata": {
    "extensions": {
     "jupyter_dashboards": {
      "version": 1,
      "views": {
       "grid_default": {
        "hidden": true
       },
       "report_default": {}
      }
     }
    }
   },
   "source": [
    "### 2.1.2) Visualizing Ordinal data"
   ]
  },
  {
   "cell_type": "code",
   "execution_count": 4,
   "metadata": {
    "extensions": {
     "jupyter_dashboards": {
      "version": 1,
      "views": {
       "grid_default": {
        "col": 1,
        "height": 26,
        "hidden": false,
        "row": 7,
        "width": 5
       },
       "report_default": {}
      }
     }
    }
   },
   "outputs": [
    {
     "data": {
      "application/vnd.jupyter.widget-view+json": {
       "model_id": "106546ae9fb84c27ba6ac57786ea074e",
       "version_major": 2,
       "version_minor": 0
      },
      "text/plain": [
       "A Jupyter Widget"
      ]
     },
     "metadata": {},
     "output_type": "display_data"
    }
   ],
   "source": [
    "@interact(select=({'Mean': 'HHCAHPS_PRVDR.iloc[:,[0,10,11,13,15]].groupby(\"State\").mean().plot(kind=\"bar\",legend=\"reverse\", subplots=True,figsize=(10,15) )',\n",
    "                   'Min': 'HHCAHPS_PRVDR.iloc[:,[0,10,11,13,15]].groupby(\"State\").min().plot(kind=\"bar\",legend=\"reverse\", subplots=True,figsize=(10,15) )',\n",
    "                   'Max': 'HHCAHPS_PRVDR.iloc[:,[0,10,11,13,15]].groupby(\"State\").max().plot(kind=\"bar\",legend=\"reverse\", subplots=True,figsize=(10,15) )',\n",
    "                   'Var': 'HHCAHPS_PRVDR.iloc[:,[0,10,11,13,15]].groupby(\"State\").var().plot(kind=\"bar\",legend=\"reverse\", subplots=True,figsize=(10,15) )',\n",
    "                   'Skew': 'HHCAHPS_PRVDR.iloc[:,[0,10,11,13,15]].groupby(\"State\").skew().plot(kind=\"bar\",legend=\"reverse\", subplots=True,figsize=(10,15) )',\n",
    "                   'kurt': 'HHCAHPS_PRVDR.iloc[:,[0,10,11,13,15]].groupby(\"State\").apply(pd.DataFrame.kurt).plot(kind=\"bar\",legend=\"reverse\", subplots=True,figsize=(10,15) )',\n",
    "                   'Std ': 'HHCAHPS_PRVDR.iloc[:,[0,10,11,13,15]].groupby(\"State\").std().plot(kind=\"bar\",legend=\"reverse\", subplots=True,figsize=(10,15) )'}))\n",
    "def plot(select):\n",
    "    exec(select)\n",
    "    #df.groupby('a').apply(pd.DataFrame.kurt)"
   ]
  },
  {
   "cell_type": "code",
   "execution_count": 5,
   "metadata": {
    "extensions": {
     "jupyter_dashboards": {
      "version": 1,
      "views": {
       "grid_default": {
        "col": 0,
        "height": 30,
        "hidden": false,
        "row": 44,
        "width": 12
       },
       "report_default": {}
      }
     }
    },
    "scrolled": false
   },
   "outputs": [
    {
     "data": {
      "application/vnd.jupyter.widget-view+json": {
       "model_id": "4289b030bf5b440faf6a41e559779acf",
       "version_major": 2,
       "version_minor": 0
      },
      "text/plain": [
       "A Jupyter Widget"
      ]
     },
     "metadata": {},
     "output_type": "display_data"
    }
   ],
   "source": [
    "x=[0,12,14,16,18,19,20,21]\n",
    "figure_size=(20,15)\n",
    "@interact(select=({'Mean': 'HHCAHPS_PRVDR.iloc[:,x].groupby(\"State\").mean().plot(kind=\"bar\",legend=\"reverse\", subplots=True,figsize=figure_size)',\n",
    "                   'Min': 'HHCAHPS_PRVDR.iloc[:,x].groupby(\"State\").min().plot(kind=\"bar\",legend=\"reverse\", subplots=True,figsize=figure_size )',\n",
    "                   'Max': 'HHCAHPS_PRVDR.iloc[:,x].groupby(\"State\").max().plot(kind=\"bar\",legend=\"reverse\", subplots=True,figsize=figure_size )',\n",
    "                   'Var': 'HHCAHPS_PRVDR.iloc[:,x].groupby(\"State\").var().plot(kind=\"bar\",legend=\"reverse\", subplots=True,figsize=figure_size )',\n",
    "                   'Skew': 'HHCAHPS_PRVDR.iloc[:,x].groupby(\"State\").skew().plot(kind=\"bar\",legend=\"reverse\", subplots=True,figsize=figure_size )',\n",
    "                   'kurt': 'HHCAHPS_PRVDR.iloc[:,x].groupby(\"State\").apply(pd.DataFrame.kurt).plot(kind=\"bar\",legend=\"reverse\", subplots=True,figsize=figure_size )',\n",
    "                   'Std ': 'HHCAHPS_PRVDR.iloc[:,x].groupby(\"State\").std().plot(kind=\"bar\",legend=\"reverse\", subplots=True,figsize=figure_size )'}))\n",
    "def plot(select):\n",
    "    exec(select)\n",
    "    #df.groupby('a').apply(pd.DataFrame.kurt)"
   ]
  },
  {
   "cell_type": "markdown",
   "metadata": {
    "extensions": {
     "jupyter_dashboards": {
      "version": 1,
      "views": {
       "grid_default": {
        "col": 8,
        "height": 4,
        "hidden": true,
        "row": 95,
        "width": 4
       },
       "report_default": {}
      }
     }
    }
   },
   "source": [
    "### 2.1.3) Visualizing Categorical Data\n"
   ]
  },
  {
   "cell_type": "code",
   "execution_count": 6,
   "metadata": {
    "extensions": {
     "jupyter_dashboards": {
      "version": 1,
      "views": {
       "grid_default": {
        "col": 0,
        "height": 13,
        "hidden": true,
        "row": 103,
        "width": 4
       },
       "report_default": {}
      }
     }
    }
   },
   "outputs": [
    {
     "data": {
      "text/plain": [
       "<matplotlib.axes._subplots.AxesSubplot at 0x7f3bec99a898>"
      ]
     },
     "execution_count": 6,
     "metadata": {},
     "output_type": "execute_result"
    },
    {
     "data": {
      "image/png": "[encoded data removed]",
      "text/plain": [
       "<matplotlib.figure.Figure at 0x7f3be4cb06d8>"
      ]
     },
     "metadata": {},
     "output_type": "display_data"
    }
   ],
   "source": [
    "size=(12,5)\n",
    "categorical=[0,3,4,5,6,7,8,9]\n",
    "estado=\"MI\"\n",
    "columna=\"Type of Ownership\"\n",
    "fig, axes = plt.subplots(nrows=1, ncols=2)\n",
    "\n",
    "\n",
    "\n",
    "HHCAHPS_PRVDR.iloc[:,categorical][HHCAHPS_PRVDR.State==estado][columna].value_counts().plot(kind=\"bar\",ax=axes[0],figsize=size )\n",
    "HHCAHPS_PRVDR.iloc[:,categorical][HHCAHPS_PRVDR.State==estado][columna].value_counts().plot(kind=\"pie\",ax=axes[1],figsize=size )"
   ]
  },
  {
   "cell_type": "code",
   "execution_count": 11,
   "metadata": {
    "extensions": {
     "jupyter_dashboards": {
      "version": 1,
      "views": {
       "grid_default": {
        "col": 6,
        "height": 26,
        "hidden": false,
        "row": 7,
        "width": 6
       },
       "report_default": {}
      }
     }
    },
    "scrolled": false
   },
   "outputs": [
    {
     "data": {
      "application/vnd.jupyter.widget-view+json": {
       "model_id": "ee523faa614a4f77b5084a956d77dd0c",
       "version_major": 2,
       "version_minor": 0
      },
      "text/plain": [
       "A Jupyter Widget"
      ]
     },
     "metadata": {},
     "output_type": "display_data"
    }
   ],
   "source": [
    "size=(5,10)\n",
    "categorical=[0,3,4,5,6,7,8,9]\n",
    "states_names=HHCAHPS_STATE.iloc[:,0].values\n",
    "states_names\n",
    "\n",
    "@interact(Services=['Type of Ownership',\n",
    "                  'Offers Nursing Care Services',\n",
    "                  'Offers Physical Therapy Services',\n",
    "                  'Offers Speech Pathology Services',\n",
    "                  'Offers Medical Social Services',\n",
    "                  'Offers Home Health Aide Services'\n",
    "                 ],State=(states_names)\n",
    "          )\n",
    "\n",
    "def plot(Services,State):\n",
    "    fig, axes = plt.subplots(nrows=2, ncols=1)\n",
    "    fig.tight_layout() \n",
    "    plt.subplots_adjust( left=None, bottom=None, right=None, top=None, wspace=None, hspace=0.6 )\n",
    "\n",
    "\n",
    "\n",
    "\n",
    "    HHCAHPS_PRVDR.iloc[:,categorical][HHCAHPS_PRVDR.State==State][Services].value_counts().plot(kind=\"bar\",ax=axes[0],figsize=size )\n",
    "    HHCAHPS_PRVDR.iloc[:,categorical][HHCAHPS_PRVDR.State==State][Services].value_counts().plot(kind=\"pie\",ax=axes[1],figsize=size )\n",
    "    #df.groupby('a').apply(pd.DataFrame.kurt)"
   ]
  },
  {
   "cell_type": "code",
   "execution_count": 12,
   "metadata": {
    "extensions": {
     "jupyter_dashboards": {
      "version": 1,
      "views": {
       "grid_default": {
        "col": 0,
        "height": 14,
        "hidden": true,
        "row": 73,
        "width": 12
       },
       "report_default": {}
      }
     }
    }
   },
   "outputs": [
    {
     "data": {
      "text/html": [
       "<div>\n",
       "<style>\n",
       "    .dataframe thead tr:only-child th {\n",
       "        text-align: right;\n",
       "    }\n",
       "\n",
       "    .dataframe thead th {\n",
       "        text-align: left;\n",
       "    }\n",
       "\n",
       "    .dataframe tbody tr th {\n",
       "        vertical-align: top;\n",
       "    }\n",
       "</style>\n",
       "<table border=\"1\" class=\"dataframe\">\n",
       "  <thead>\n",
       "    <tr style=\"text-align: right;\">\n",
       "      <th></th>\n",
       "      <th>State</th>\n",
       "      <th>Provider Name</th>\n",
       "      <th>City</th>\n",
       "      <th>Type of Ownership</th>\n",
       "      <th>Offers Nursing Care Services</th>\n",
       "      <th>Offers Physical Therapy Services</th>\n",
       "      <th>Offers Occupational Therapy Services</th>\n",
       "      <th>Offers Speech Pathology Services</th>\n",
       "      <th>Offers Medical Social Services</th>\n",
       "      <th>Offers Home Health Aide Services</th>\n",
       "      <th>HHCAHPS Survey Summary Star Rating</th>\n",
       "      <th>Star Rating for health team gave care in a professional way</th>\n",
       "      <th>Percent of patients who reported that their home health team gave care in a professional way</th>\n",
       "      <th>Star Rating for health team communicated well with them</th>\n",
       "      <th>Percent of patients who reported that their home health team communicated well with them</th>\n",
       "      <th>Star Rating team discussed medicines, pain, and home safety</th>\n",
       "      <th>Percent of patients who reported that their home health team discussed medicines, pain, and home safety with them</th>\n",
       "      <th>Star Rating for how patients rated overall care from agency</th>\n",
       "      <th>Percent of patients who gave their home health agency a rating of 9 or 10 on a scale from 0 (lowest) to 10 (highest)</th>\n",
       "      <th>Percent of patients who reported YES, they would definitely recommend the home health agency to friends and family</th>\n",
       "      <th>Number of completed Surveys</th>\n",
       "      <th>Response rate</th>\n",
       "    </tr>\n",
       "  </thead>\n",
       "  <tbody>\n",
       "    <tr>\n",
       "      <th>0</th>\n",
       "      <td>AL</td>\n",
       "      <td>BUREAU OF HOME &amp; COMMUNITY SERVICES           ...</td>\n",
       "      <td>MONTGOMERY</td>\n",
       "      <td>Official Health Agency</td>\n",
       "      <td>Yes</td>\n",
       "      <td>Yes</td>\n",
       "      <td>Yes</td>\n",
       "      <td>Yes</td>\n",
       "      <td>Yes</td>\n",
       "      <td>Yes</td>\n",
       "      <td>NaN</td>\n",
       "      <td>NaN</td>\n",
       "      <td>NaN</td>\n",
       "      <td>NaN</td>\n",
       "      <td>NaN</td>\n",
       "      <td>NaN</td>\n",
       "      <td>NaN</td>\n",
       "      <td>NaN</td>\n",
       "      <td>NaN</td>\n",
       "      <td>NaN</td>\n",
       "      <td>NaN</td>\n",
       "      <td>NaN</td>\n",
       "    </tr>\n",
       "    <tr>\n",
       "      <th>1</th>\n",
       "      <td>AL</td>\n",
       "      <td>JEFFERSON COUNTY HOME CARE                    ...</td>\n",
       "      <td>BESSEMER</td>\n",
       "      <td>Official Health Agency</td>\n",
       "      <td>Yes</td>\n",
       "      <td>Yes</td>\n",
       "      <td>Yes</td>\n",
       "      <td>Yes</td>\n",
       "      <td>Yes</td>\n",
       "      <td>Yes</td>\n",
       "      <td>4.0</td>\n",
       "      <td>4.0</td>\n",
       "      <td>91.0</td>\n",
       "      <td>4.0</td>\n",
       "      <td>89.0</td>\n",
       "      <td>5.0</td>\n",
       "      <td>88.0</td>\n",
       "      <td>2.0</td>\n",
       "      <td>87.0</td>\n",
       "      <td>81.0</td>\n",
       "      <td>44.0</td>\n",
       "      <td>19.0</td>\n",
       "    </tr>\n",
       "  </tbody>\n",
       "</table>\n",
       "</div>"
      ],
      "text/plain": [
       "  State                                      Provider Name  \\\n",
       "0    AL  BUREAU OF HOME & COMMUNITY SERVICES           ...   \n",
       "1    AL  JEFFERSON COUNTY HOME CARE                    ...   \n",
       "\n",
       "                   City       Type of Ownership Offers Nursing Care Services  \\\n",
       "0  MONTGOMERY            Official Health Agency                          Yes   \n",
       "1  BESSEMER              Official Health Agency                          Yes   \n",
       "\n",
       "  Offers Physical Therapy Services Offers Occupational Therapy Services  \\\n",
       "0                              Yes                                  Yes   \n",
       "1                              Yes                                  Yes   \n",
       "\n",
       "  Offers Speech Pathology Services Offers Medical Social Services  \\\n",
       "0                              Yes                            Yes   \n",
       "1                              Yes                            Yes   \n",
       "\n",
       "  Offers Home Health Aide Services  HHCAHPS Survey Summary Star Rating  \\\n",
       "0                              Yes                                 NaN   \n",
       "1                              Yes                                 4.0   \n",
       "\n",
       "   Star Rating for health team gave care in a professional way  \\\n",
       "0                                                NaN             \n",
       "1                                                4.0             \n",
       "\n",
       "   Percent of patients who reported that their home health team gave care in a professional way  \\\n",
       "0                                                NaN                                              \n",
       "1                                               91.0                                              \n",
       "\n",
       "   Star Rating for health team communicated well with them  \\\n",
       "0                                                NaN         \n",
       "1                                                4.0         \n",
       "\n",
       "   Percent of patients who reported that their home health team communicated well with them  \\\n",
       "0                                                NaN                                          \n",
       "1                                               89.0                                          \n",
       "\n",
       "   Star Rating team discussed medicines, pain, and home safety  \\\n",
       "0                                                NaN             \n",
       "1                                                5.0             \n",
       "\n",
       "   Percent of patients who reported that their home health team discussed medicines, pain, and home safety with them  \\\n",
       "0                                                NaN                                                                   \n",
       "1                                               88.0                                                                   \n",
       "\n",
       "   Star Rating for how patients rated overall care from agency  \\\n",
       "0                                                NaN             \n",
       "1                                                2.0             \n",
       "\n",
       "   Percent of patients who gave their home health agency a rating of 9 or 10 on a scale from 0 (lowest) to 10 (highest)  \\\n",
       "0                                                NaN                                                                      \n",
       "1                                               87.0                                                                      \n",
       "\n",
       "   Percent of patients who reported YES, they would definitely recommend the home health agency to friends and family  \\\n",
       "0                                                NaN                                                                    \n",
       "1                                               81.0                                                                    \n",
       "\n",
       "   Number of completed Surveys  Response rate  \n",
       "0                          NaN            NaN  \n",
       "1                         44.0           19.0  "
      ]
     },
     "execution_count": 12,
     "metadata": {},
     "output_type": "execute_result"
    }
   ],
   "source": [
    "HHCAHPS_PRVDR.head(2)"
   ]
  },
  {
   "cell_type": "markdown",
   "metadata": {
    "extensions": {
     "jupyter_dashboards": {
      "version": 1,
      "views": {
       "grid_default": {
        "col": 0,
        "height": 4,
        "hidden": true,
        "row": 88,
        "width": 4
       },
       "report_default": {}
      }
     }
    }
   },
   "source": [
    "### 2.1.4) Best/Worst 5 Providers by State\n"
   ]
  },
  {
   "cell_type": "code",
   "execution_count": 13,
   "metadata": {
    "extensions": {
     "jupyter_dashboards": {
      "version": 1,
      "views": {
       "grid_default": {
        "col": 0,
        "height": 14,
        "hidden": true,
        "row": 88,
        "width": 12
       },
       "report_default": {}
      }
     }
    },
    "scrolled": false
   },
   "outputs": [
    {
     "data": {
      "text/html": [
       "<div>\n",
       "<style>\n",
       "    .dataframe thead tr:only-child th {\n",
       "        text-align: right;\n",
       "    }\n",
       "\n",
       "    .dataframe thead th {\n",
       "        text-align: left;\n",
       "    }\n",
       "\n",
       "    .dataframe tbody tr th {\n",
       "        vertical-align: top;\n",
       "    }\n",
       "</style>\n",
       "<table border=\"1\" class=\"dataframe\">\n",
       "  <thead>\n",
       "    <tr style=\"text-align: right;\">\n",
       "      <th></th>\n",
       "      <th>State</th>\n",
       "      <th>Provider Name</th>\n",
       "      <th>City</th>\n",
       "      <th>Type of Ownership</th>\n",
       "      <th>Offers Nursing Care Services</th>\n",
       "      <th>Offers Physical Therapy Services</th>\n",
       "      <th>Offers Occupational Therapy Services</th>\n",
       "      <th>Offers Speech Pathology Services</th>\n",
       "      <th>Offers Medical Social Services</th>\n",
       "      <th>Offers Home Health Aide Services</th>\n",
       "      <th>HHCAHPS Survey Summary Star Rating</th>\n",
       "      <th>Star Rating for health team gave care in a professional way</th>\n",
       "      <th>Percent of patients who reported that their home health team gave care in a professional way</th>\n",
       "      <th>Star Rating for health team communicated well with them</th>\n",
       "      <th>Percent of patients who reported that their home health team communicated well with them</th>\n",
       "      <th>Star Rating team discussed medicines, pain, and home safety</th>\n",
       "      <th>Percent of patients who reported that their home health team discussed medicines, pain, and home safety with them</th>\n",
       "      <th>Star Rating for how patients rated overall care from agency</th>\n",
       "      <th>Percent of patients who gave their home health agency a rating of 9 or 10 on a scale from 0 (lowest) to 10 (highest)</th>\n",
       "      <th>Percent of patients who reported YES, they would definitely recommend the home health agency to friends and family</th>\n",
       "      <th>Number of completed Surveys</th>\n",
       "      <th>Response rate</th>\n",
       "    </tr>\n",
       "  </thead>\n",
       "  <tbody>\n",
       "    <tr>\n",
       "      <th>0</th>\n",
       "      <td>AL</td>\n",
       "      <td>BUREAU OF HOME &amp; COMMUNITY SERVICES           ...</td>\n",
       "      <td>MONTGOMERY</td>\n",
       "      <td>Official Health Agency</td>\n",
       "      <td>Yes</td>\n",
       "      <td>Yes</td>\n",
       "      <td>Yes</td>\n",
       "      <td>Yes</td>\n",
       "      <td>Yes</td>\n",
       "      <td>Yes</td>\n",
       "      <td>NaN</td>\n",
       "      <td>NaN</td>\n",
       "      <td>NaN</td>\n",
       "      <td>NaN</td>\n",
       "      <td>NaN</td>\n",
       "      <td>NaN</td>\n",
       "      <td>NaN</td>\n",
       "      <td>NaN</td>\n",
       "      <td>NaN</td>\n",
       "      <td>NaN</td>\n",
       "      <td>NaN</td>\n",
       "      <td>NaN</td>\n",
       "    </tr>\n",
       "    <tr>\n",
       "      <th>1</th>\n",
       "      <td>AL</td>\n",
       "      <td>JEFFERSON COUNTY HOME CARE                    ...</td>\n",
       "      <td>BESSEMER</td>\n",
       "      <td>Official Health Agency</td>\n",
       "      <td>Yes</td>\n",
       "      <td>Yes</td>\n",
       "      <td>Yes</td>\n",
       "      <td>Yes</td>\n",
       "      <td>Yes</td>\n",
       "      <td>Yes</td>\n",
       "      <td>4.0</td>\n",
       "      <td>4.0</td>\n",
       "      <td>91.0</td>\n",
       "      <td>4.0</td>\n",
       "      <td>89.0</td>\n",
       "      <td>5.0</td>\n",
       "      <td>88.0</td>\n",
       "      <td>2.0</td>\n",
       "      <td>87.0</td>\n",
       "      <td>81.0</td>\n",
       "      <td>44.0</td>\n",
       "      <td>19.0</td>\n",
       "    </tr>\n",
       "  </tbody>\n",
       "</table>\n",
       "</div>"
      ],
      "text/plain": [
       "  State                                      Provider Name  \\\n",
       "0    AL  BUREAU OF HOME & COMMUNITY SERVICES           ...   \n",
       "1    AL  JEFFERSON COUNTY HOME CARE                    ...   \n",
       "\n",
       "                   City       Type of Ownership Offers Nursing Care Services  \\\n",
       "0  MONTGOMERY            Official Health Agency                          Yes   \n",
       "1  BESSEMER              Official Health Agency                          Yes   \n",
       "\n",
       "  Offers Physical Therapy Services Offers Occupational Therapy Services  \\\n",
       "0                              Yes                                  Yes   \n",
       "1                              Yes                                  Yes   \n",
       "\n",
       "  Offers Speech Pathology Services Offers Medical Social Services  \\\n",
       "0                              Yes                            Yes   \n",
       "1                              Yes                            Yes   \n",
       "\n",
       "  Offers Home Health Aide Services  HHCAHPS Survey Summary Star Rating  \\\n",
       "0                              Yes                                 NaN   \n",
       "1                              Yes                                 4.0   \n",
       "\n",
       "   Star Rating for health team gave care in a professional way  \\\n",
       "0                                                NaN             \n",
       "1                                                4.0             \n",
       "\n",
       "   Percent of patients who reported that their home health team gave care in a professional way  \\\n",
       "0                                                NaN                                              \n",
       "1                                               91.0                                              \n",
       "\n",
       "   Star Rating for health team communicated well with them  \\\n",
       "0                                                NaN         \n",
       "1                                                4.0         \n",
       "\n",
       "   Percent of patients who reported that their home health team communicated well with them  \\\n",
       "0                                                NaN                                          \n",
       "1                                               89.0                                          \n",
       "\n",
       "   Star Rating team discussed medicines, pain, and home safety  \\\n",
       "0                                                NaN             \n",
       "1                                                5.0             \n",
       "\n",
       "   Percent of patients who reported that their home health team discussed medicines, pain, and home safety with them  \\\n",
       "0                                                NaN                                                                   \n",
       "1                                               88.0                                                                   \n",
       "\n",
       "   Star Rating for how patients rated overall care from agency  \\\n",
       "0                                                NaN             \n",
       "1                                                2.0             \n",
       "\n",
       "   Percent of patients who gave their home health agency a rating of 9 or 10 on a scale from 0 (lowest) to 10 (highest)  \\\n",
       "0                                                NaN                                                                      \n",
       "1                                               87.0                                                                      \n",
       "\n",
       "   Percent of patients who reported YES, they would definitely recommend the home health agency to friends and family  \\\n",
       "0                                                NaN                                                                    \n",
       "1                                               81.0                                                                    \n",
       "\n",
       "   Number of completed Surveys  Response rate  \n",
       "0                          NaN            NaN  \n",
       "1                         44.0           19.0  "
      ]
     },
     "execution_count": 13,
     "metadata": {},
     "output_type": "execute_result"
    }
   ],
   "source": [
    "HHCAHPS_PRVDR.head(2)"
   ]
  },
  {
   "cell_type": "markdown",
   "metadata": {
    "extensions": {
     "jupyter_dashboards": {
      "version": 1,
      "views": {
       "grid_default": {
        "col": 2,
        "height": 2,
        "hidden": false,
        "row": 33,
        "width": 2
       },
       "report_default": {}
      }
     }
    }
   },
   "source": [
    "### The Best Five"
   ]
  },
  {
   "cell_type": "code",
   "execution_count": 14,
   "metadata": {
    "extensions": {
     "jupyter_dashboards": {
      "version": 1,
      "views": {
       "grid_default": {
        "col": 1,
        "height": 9,
        "hidden": false,
        "row": 35,
        "width": 4
       },
       "report_default": {}
      }
     }
    }
   },
   "outputs": [
    {
     "data": {
      "application/vnd.jupyter.widget-view+json": {
       "model_id": "9692cbafb9b7476dbe5756ba1457a816",
       "version_major": 2,
       "version_minor": 0
      },
      "text/plain": [
       "A Jupyter Widget"
      ]
     },
     "metadata": {},
     "output_type": "display_data"
    }
   ],
   "source": [
    "@interact(Report=['Percent of patients who reported that their home health team gave care in a professional way',\n",
    "                  'Percent of patients who reported that their home health team communicated well with them',\n",
    "                  'Percent of patients who reported that their home health team discussed medicines, pain, and home safety with them',\n",
    "                  'Percent of patients who gave their home health agency a rating of 9 or 10 on a scale from 0 (lowest) to 10 (highest)',\n",
    "                  'Percent of patients who reported YES, they would definitely recommend the home health agency to friends and family',\n",
    "                  'Number of completed Surveys',\n",
    "                  'Response rate'\n",
    "                 ],State=(states_names)\n",
    "          )\n",
    "\n",
    "def plot(Report,State):\n",
    "    #[HHCAHPS_PRVDR.State==State]\n",
    "    #percent=\"Percent of patients who gave their home health agency a rating of 9 or 10 on a scale from 0 (lowest) to 10 (highest)\"\n",
    "    valores=HHCAHPS_PRVDR[HHCAHPS_PRVDR.State==State].sort_values(by=[Report], ascending=False).iloc[0:5,1].values\n",
    "    print(\"5 \",valores[4])\n",
    "    print(\"4 \",valores[3])\n",
    "    print(\"3 \",valores[2])\n",
    "    print(\"2 \",valores[1])\n",
    "    print(\"1 \",valores[0])"
   ]
  },
  {
   "cell_type": "markdown",
   "metadata": {
    "extensions": {
     "jupyter_dashboards": {
      "version": 1,
      "views": {
       "grid_default": {
        "col": 7,
        "height": 2,
        "hidden": false,
        "row": 33,
        "width": 2
       },
       "report_default": {}
      }
     }
    }
   },
   "source": [
    "### The Worst Five"
   ]
  },
  {
   "cell_type": "code",
   "execution_count": 15,
   "metadata": {
    "extensions": {
     "jupyter_dashboards": {
      "version": 1,
      "views": {
       "grid_default": {
        "col": 6,
        "height": 9,
        "hidden": false,
        "row": 35,
        "width": 4
       },
       "report_default": {}
      }
     }
    }
   },
   "outputs": [
    {
     "data": {
      "application/vnd.jupyter.widget-view+json": {
       "model_id": "5a22c5eccc484cd2b70044b36ec5a368",
       "version_major": 2,
       "version_minor": 0
      },
      "text/plain": [
       "A Jupyter Widget"
      ]
     },
     "metadata": {},
     "output_type": "display_data"
    }
   ],
   "source": [
    "@interact(Report=['Percent of patients who reported that their home health team gave care in a professional way',\n",
    "                  'Percent of patients who reported that their home health team communicated well with them',\n",
    "                  'Percent of patients who reported that their home health team discussed medicines, pain, and home safety with them',\n",
    "                  'Percent of patients who gave their home health agency a rating of 9 or 10 on a scale from 0 (lowest) to 10 (highest)',\n",
    "                  'Percent of patients who reported YES, they would definitely recommend the home health agency to friends and family',\n",
    "                  'Number of completed Surveys',\n",
    "                  'Response rate'\n",
    "                 ],State=(states_names)\n",
    "          )\n",
    "\n",
    "def plot(Report,State):\n",
    "    #[HHCAHPS_PRVDR.State==State]\n",
    "    #percent=\"Percent of patients who gave their home health agency a rating of 9 or 10 on a scale from 0 (lowest) to 10 (highest)\"\n",
    "    valores=HHCAHPS_PRVDR[HHCAHPS_PRVDR.State==State].sort_values(by=[Report], ascending=True).iloc[0:5,1].values\n",
    "    print(\"5 \",valores[4])\n",
    "    print(\"4 \",valores[3])\n",
    "    print(\"3 \",valores[2])\n",
    "    print(\"2 \",valores[1])\n",
    "    print(\"1 \",valores[0])"
   ]
  },
  {
   "cell_type": "markdown",
   "metadata": {
    "extensions": {
     "jupyter_dashboards": {
      "version": 1,
      "views": {
       "grid_default": {
        "col": 0,
        "height": 4,
        "hidden": true,
        "row": 99,
        "width": 4
       },
       "report_default": {}
      }
     }
    }
   },
   "source": [
    "## 2.2) Load Datasets HHCAHPS_STATE"
   ]
  },
  {
   "cell_type": "code",
   "execution_count": 16,
   "metadata": {
    "collapsed": true,
    "extensions": {
     "jupyter_dashboards": {
      "version": 1,
      "views": {
       "grid_default": {
        "hidden": true
       },
       "report_default": {}
      }
     }
    }
   },
   "outputs": [],
   "source": [
    "HHCAHPS_STATE=pd.read_csv('HHCAHPS_STATE.csv',encoding = \"ISO-8859-1\")"
   ]
  },
  {
   "cell_type": "code",
   "execution_count": 17,
   "metadata": {
    "extensions": {
     "jupyter_dashboards": {
      "version": 1,
      "views": {
       "grid_default": {
        "col": 8,
        "height": 4,
        "hidden": true,
        "row": 95,
        "width": 4
       },
       "report_default": {}
      }
     }
    }
   },
   "outputs": [
    {
     "data": {
      "text/plain": [
       "array(['AK', 'AL', 'AR', 'AZ', 'CA', 'CO', 'CT', 'DC', 'DE', 'FL', 'GA',\n",
       "       'GU', 'HI', 'IA', 'ID', 'IL', 'IN', 'KS', 'KY', 'LA', 'MA', 'MD',\n",
       "       'ME', 'MI', 'MN', 'MO', 'MP', 'MS', 'MT', 'NC', 'ND', 'NE', 'NH',\n",
       "       'NJ', 'NM', 'NV', 'NY', 'OH', 'OK', 'OR', 'PA', 'PR', 'RI', 'SC',\n",
       "       'SD', 'TN', 'TX', 'UT', 'VA', 'VI', 'VT', 'WA', 'WI', 'WV', 'WY'], dtype=object)"
      ]
     },
     "execution_count": 17,
     "metadata": {},
     "output_type": "execute_result"
    }
   ],
   "source": [
    "states_names=HHCAHPS_STATE.iloc[:,0].values\n",
    "states_names\n"
   ]
  },
  {
   "cell_type": "code",
   "execution_count": 18,
   "metadata": {
    "extensions": {
     "jupyter_dashboards": {
      "version": 1,
      "views": {
       "grid_default": {
        "col": 0,
        "height": 17,
        "hidden": false,
        "row": 79,
        "width": 12
       },
       "report_default": {}
      }
     }
    }
   },
   "outputs": [
    {
     "data": {
      "application/vnd.jupyter.widget-view+json": {
       "model_id": "a799540e02d44f56a5e05dd95bcb5084",
       "version_major": 2,
       "version_minor": 0
      },
      "text/plain": [
       "A Jupyter Widget"
      ]
     },
     "metadata": {},
     "output_type": "display_data"
    }
   ],
   "source": [
    "@interact(select=({'Percent of patients who reported that their home health team gave care in a professional way': 1,\n",
    "                   'Percent of patients who reported that their home health team communicated well with them': 2,\n",
    "                   'Percent of patients who reported that their home health team discussed medicines, pain, and home safety with them':3,\n",
    "                   'Percent of patients who gave their home health agency a rating of 9 or 10 on a scale from 0 (lowest) to 10 (highest)':4,\n",
    "                   'Percent of patients who reported YES, they would definitely recommend the home health agency to friends and family':5}))\n",
    "def fcolumna(select):\n",
    "    dataState =[dict(type='choropleth', autocolorscale=False, locations=HHCAHPS_STATE['State'],z=HHCAHPS_STATE.iloc[:,select], locationmode='USA-states',\n",
    "               text=None,colorscale='custom-colorscale',colorbar=dict(title=\"%\"))]\n",
    "\n",
    "    layoutState= dict(title='Report By State', \n",
    "                 geo=dict(scope='usa', projection=dict(type='albers usa'), showlakes=True, lakecolor='rgb(66,165,245)',),)\n",
    "\n",
    "    fig=dict(data=dataState, layout=layoutState)\n",
    "   \n",
    "\n",
    "    return  py.iplot(fig,filename='HHCAHPS_STATE')"
   ]
  },
  {
   "cell_type": "code",
   "execution_count": 19,
   "metadata": {
    "extensions": {
     "jupyter_dashboards": {
      "version": 1,
      "views": {
       "grid_default": {
        "hidden": true
       },
       "report_default": {}
      }
     }
    }
   },
   "outputs": [
    {
     "data": {
      "text/html": [
       "<div>\n",
       "<style>\n",
       "    .dataframe thead tr:only-child th {\n",
       "        text-align: right;\n",
       "    }\n",
       "\n",
       "    .dataframe thead th {\n",
       "        text-align: left;\n",
       "    }\n",
       "\n",
       "    .dataframe tbody tr th {\n",
       "        vertical-align: top;\n",
       "    }\n",
       "</style>\n",
       "<table border=\"1\" class=\"dataframe\">\n",
       "  <thead>\n",
       "    <tr style=\"text-align: right;\">\n",
       "      <th></th>\n",
       "      <th>State</th>\n",
       "      <th>Percent of patients who reported that their home health team gave care in a professional way</th>\n",
       "      <th>Percent of patients who reported that their home health team communicated well with them</th>\n",
       "      <th>Percent of patients who reported that their home health team discussed medicines, pain, and home safety with them</th>\n",
       "      <th>Percent of patients who gave their home health agency a rating of 9 or 10 on a scale from 0 (lowest) to 10 (highest)</th>\n",
       "      <th>Percent of patients who reported YES, they would definitely recommend the home health agency to friends and family</th>\n",
       "      <th>Number of completed Surveys</th>\n",
       "      <th>Response rate</th>\n",
       "    </tr>\n",
       "  </thead>\n",
       "  <tbody>\n",
       "    <tr>\n",
       "      <th>0</th>\n",
       "      <td>AK</td>\n",
       "      <td>89</td>\n",
       "      <td>84</td>\n",
       "      <td>84</td>\n",
       "      <td>85</td>\n",
       "      <td>82</td>\n",
       "      <td>NaN</td>\n",
       "      <td>NaN</td>\n",
       "    </tr>\n",
       "    <tr>\n",
       "      <th>1</th>\n",
       "      <td>AL</td>\n",
       "      <td>92</td>\n",
       "      <td>89</td>\n",
       "      <td>88</td>\n",
       "      <td>89</td>\n",
       "      <td>84</td>\n",
       "      <td>NaN</td>\n",
       "      <td>NaN</td>\n",
       "    </tr>\n",
       "  </tbody>\n",
       "</table>\n",
       "</div>"
      ],
      "text/plain": [
       "  State  \\\n",
       "0    AK   \n",
       "1    AL   \n",
       "\n",
       "   Percent of patients who reported that their home health team gave care in a professional way  \\\n",
       "0                                                 89                                              \n",
       "1                                                 92                                              \n",
       "\n",
       "   Percent of patients who reported that their home health team communicated well with them  \\\n",
       "0                                                 84                                          \n",
       "1                                                 89                                          \n",
       "\n",
       "   Percent of patients who reported that their home health team discussed medicines, pain, and home safety with them  \\\n",
       "0                                                 84                                                                   \n",
       "1                                                 88                                                                   \n",
       "\n",
       "   Percent of patients who gave their home health agency a rating of 9 or 10 on a scale from 0 (lowest) to 10 (highest)  \\\n",
       "0                                                 85                                                                      \n",
       "1                                                 89                                                                      \n",
       "\n",
       "   Percent of patients who reported YES, they would definitely recommend the home health agency to friends and family  \\\n",
       "0                                                 82                                                                    \n",
       "1                                                 84                                                                    \n",
       "\n",
       "   Number of completed Surveys  Response rate  \n",
       "0                          NaN            NaN  \n",
       "1                          NaN            NaN  "
      ]
     },
     "execution_count": 19,
     "metadata": {},
     "output_type": "execute_result"
    }
   ],
   "source": [
    "HHCAHPS_STATE.head(2)"
   ]
  },
  {
   "cell_type": "code",
   "execution_count": 20,
   "metadata": {
    "collapsed": true,
    "extensions": {
     "jupyter_dashboards": {
      "version": 1,
      "views": {
       "grid_default": {
        "hidden": true
       },
       "report_default": {}
      }
     }
    }
   },
   "outputs": [],
   "source": [
    "HHCAHPS_STATE=HHCAHPS_STATE.drop(HHCAHPS_STATE.columns[[6,7]],1)\n",
    "HHCAHPS_STATE.replace('Not Available',np.nan, inplace=True)\n",
    "HHCAHPS_STATE=HHCAHPS_STATE.iloc[:,:].apply(pd.to_numeric, errors='ignore')"
   ]
  },
  {
   "cell_type": "code",
   "execution_count": 40,
   "metadata": {
    "extensions": {
     "jupyter_dashboards": {
      "version": 1,
      "views": {
       "grid_default": {
        "col": 0,
        "height": 15,
        "hidden": false,
        "row": 103,
        "width": 12
       },
       "report_default": {}
      }
     }
    }
   },
   "outputs": [
    {
     "data": {
      "text/html": [
       "<div>\n",
       "<style>\n",
       "    .dataframe thead tr:only-child th {\n",
       "        text-align: right;\n",
       "    }\n",
       "\n",
       "    .dataframe thead th {\n",
       "        text-align: left;\n",
       "    }\n",
       "\n",
       "    .dataframe tbody tr th {\n",
       "        vertical-align: top;\n",
       "    }\n",
       "</style>\n",
       "<table border=\"1\" class=\"dataframe\">\n",
       "  <thead>\n",
       "    <tr style=\"text-align: right;\">\n",
       "      <th></th>\n",
       "      <th>State</th>\n",
       "      <th>Percent of patients who reported that their home health team gave care in a professional way</th>\n",
       "      <th>Percent of patients who reported that their home health team communicated well with them</th>\n",
       "      <th>Percent of patients who reported that their home health team discussed medicines, pain, and home safety with them</th>\n",
       "      <th>Percent of patients who gave their home health agency a rating of 9 or 10 on a scale from 0 (lowest) to 10 (highest)</th>\n",
       "      <th>Percent of patients who reported YES, they would definitely recommend the home health agency to friends and family</th>\n",
       "    </tr>\n",
       "  </thead>\n",
       "  <tbody>\n",
       "    <tr>\n",
       "      <th>0</th>\n",
       "      <td>AK</td>\n",
       "      <td>89</td>\n",
       "      <td>84</td>\n",
       "      <td>84</td>\n",
       "      <td>85</td>\n",
       "      <td>82</td>\n",
       "    </tr>\n",
       "    <tr>\n",
       "      <th>1</th>\n",
       "      <td>AL</td>\n",
       "      <td>92</td>\n",
       "      <td>89</td>\n",
       "      <td>88</td>\n",
       "      <td>89</td>\n",
       "      <td>84</td>\n",
       "    </tr>\n",
       "    <tr>\n",
       "      <th>2</th>\n",
       "      <td>AR</td>\n",
       "      <td>91</td>\n",
       "      <td>88</td>\n",
       "      <td>86</td>\n",
       "      <td>87</td>\n",
       "      <td>83</td>\n",
       "    </tr>\n",
       "    <tr>\n",
       "      <th>3</th>\n",
       "      <td>AZ</td>\n",
       "      <td>86</td>\n",
       "      <td>83</td>\n",
       "      <td>79</td>\n",
       "      <td>81</td>\n",
       "      <td>74</td>\n",
       "    </tr>\n",
       "    <tr>\n",
       "      <th>4</th>\n",
       "      <td>CA</td>\n",
       "      <td>86</td>\n",
       "      <td>83</td>\n",
       "      <td>82</td>\n",
       "      <td>80</td>\n",
       "      <td>74</td>\n",
       "    </tr>\n",
       "    <tr>\n",
       "      <th>5</th>\n",
       "      <td>CO</td>\n",
       "      <td>88</td>\n",
       "      <td>85</td>\n",
       "      <td>82</td>\n",
       "      <td>83</td>\n",
       "      <td>78</td>\n",
       "    </tr>\n",
       "    <tr>\n",
       "      <th>6</th>\n",
       "      <td>CT</td>\n",
       "      <td>86</td>\n",
       "      <td>84</td>\n",
       "      <td>83</td>\n",
       "      <td>82</td>\n",
       "      <td>77</td>\n",
       "    </tr>\n",
       "    <tr>\n",
       "      <th>7</th>\n",
       "      <td>DC</td>\n",
       "      <td>81</td>\n",
       "      <td>74</td>\n",
       "      <td>70</td>\n",
       "      <td>70</td>\n",
       "      <td>59</td>\n",
       "    </tr>\n",
       "    <tr>\n",
       "      <th>8</th>\n",
       "      <td>DE</td>\n",
       "      <td>88</td>\n",
       "      <td>84</td>\n",
       "      <td>82</td>\n",
       "      <td>82</td>\n",
       "      <td>77</td>\n",
       "    </tr>\n",
       "    <tr>\n",
       "      <th>9</th>\n",
       "      <td>FL</td>\n",
       "      <td>88</td>\n",
       "      <td>85</td>\n",
       "      <td>81</td>\n",
       "      <td>84</td>\n",
       "      <td>79</td>\n",
       "    </tr>\n",
       "    <tr>\n",
       "      <th>10</th>\n",
       "      <td>GA</td>\n",
       "      <td>89</td>\n",
       "      <td>86</td>\n",
       "      <td>83</td>\n",
       "      <td>85</td>\n",
       "      <td>80</td>\n",
       "    </tr>\n",
       "    <tr>\n",
       "      <th>11</th>\n",
       "      <td>GU</td>\n",
       "      <td>83</td>\n",
       "      <td>78</td>\n",
       "      <td>80</td>\n",
       "      <td>64</td>\n",
       "      <td>67</td>\n",
       "    </tr>\n",
       "    <tr>\n",
       "      <th>12</th>\n",
       "      <td>HI</td>\n",
       "      <td>90</td>\n",
       "      <td>86</td>\n",
       "      <td>81</td>\n",
       "      <td>85</td>\n",
       "      <td>83</td>\n",
       "    </tr>\n",
       "  </tbody>\n",
       "</table>\n",
       "</div>"
      ],
      "text/plain": [
       "   State  \\\n",
       "0     AK   \n",
       "1     AL   \n",
       "2     AR   \n",
       "3     AZ   \n",
       "4     CA   \n",
       "5     CO   \n",
       "6     CT   \n",
       "7     DC   \n",
       "8     DE   \n",
       "9     FL   \n",
       "10    GA   \n",
       "11    GU   \n",
       "12    HI   \n",
       "\n",
       "    Percent of patients who reported that their home health team gave care in a professional way  \\\n",
       "0                                                  89                                              \n",
       "1                                                  92                                              \n",
       "2                                                  91                                              \n",
       "3                                                  86                                              \n",
       "4                                                  86                                              \n",
       "5                                                  88                                              \n",
       "6                                                  86                                              \n",
       "7                                                  81                                              \n",
       "8                                                  88                                              \n",
       "9                                                  88                                              \n",
       "10                                                 89                                              \n",
       "11                                                 83                                              \n",
       "12                                                 90                                              \n",
       "\n",
       "    Percent of patients who reported that their home health team communicated well with them  \\\n",
       "0                                                  84                                          \n",
       "1                                                  89                                          \n",
       "2                                                  88                                          \n",
       "3                                                  83                                          \n",
       "4                                                  83                                          \n",
       "5                                                  85                                          \n",
       "6                                                  84                                          \n",
       "7                                                  74                                          \n",
       "8                                                  84                                          \n",
       "9                                                  85                                          \n",
       "10                                                 86                                          \n",
       "11                                                 78                                          \n",
       "12                                                 86                                          \n",
       "\n",
       "    Percent of patients who reported that their home health team discussed medicines, pain, and home safety with them  \\\n",
       "0                                                  84                                                                   \n",
       "1                                                  88                                                                   \n",
       "2                                                  86                                                                   \n",
       "3                                                  79                                                                   \n",
       "4                                                  82                                                                   \n",
       "5                                                  82                                                                   \n",
       "6                                                  83                                                                   \n",
       "7                                                  70                                                                   \n",
       "8                                                  82                                                                   \n",
       "9                                                  81                                                                   \n",
       "10                                                 83                                                                   \n",
       "11                                                 80                                                                   \n",
       "12                                                 81                                                                   \n",
       "\n",
       "    Percent of patients who gave their home health agency a rating of 9 or 10 on a scale from 0 (lowest) to 10 (highest)  \\\n",
       "0                                                  85                                                                      \n",
       "1                                                  89                                                                      \n",
       "2                                                  87                                                                      \n",
       "3                                                  81                                                                      \n",
       "4                                                  80                                                                      \n",
       "5                                                  83                                                                      \n",
       "6                                                  82                                                                      \n",
       "7                                                  70                                                                      \n",
       "8                                                  82                                                                      \n",
       "9                                                  84                                                                      \n",
       "10                                                 85                                                                      \n",
       "11                                                 64                                                                      \n",
       "12                                                 85                                                                      \n",
       "\n",
       "    Percent of patients who reported YES, they would definitely recommend the home health agency to friends and family  \n",
       "0                                                  82                                                                   \n",
       "1                                                  84                                                                   \n",
       "2                                                  83                                                                   \n",
       "3                                                  74                                                                   \n",
       "4                                                  74                                                                   \n",
       "5                                                  78                                                                   \n",
       "6                                                  77                                                                   \n",
       "7                                                  59                                                                   \n",
       "8                                                  77                                                                   \n",
       "9                                                  79                                                                   \n",
       "10                                                 80                                                                   \n",
       "11                                                 67                                                                   \n",
       "12                                                 83                                                                   "
      ]
     },
     "execution_count": 40,
     "metadata": {},
     "output_type": "execute_result"
    }
   ],
   "source": [
    "HHCAHPS_STATE.head(13)"
   ]
  },
  {
   "cell_type": "code",
   "execution_count": 21,
   "metadata": {
    "extensions": {
     "jupyter_dashboards": {
      "version": 1,
      "views": {
       "grid_default": {
        "hidden": true
       },
       "report_default": {}
      }
     }
    }
   },
   "outputs": [
    {
     "name": "stderr",
     "output_type": "stream",
     "text": [
      "/home/libardomm/anaconda3/lib/python3.6/site-packages/sklearn/utils/validation.py:475: DataConversionWarning:\n",
      "\n",
      "Data with input dtype int64 was converted to float64 by StandardScaler.\n",
      "\n"
     ]
    }
   ],
   "source": [
    "target='State'\n",
    "features = ['Percent of patients who reported that their home health team communicated well with them',\n",
    "            'Percent of patients who reported that their home health team discussed medicines, pain, and home safety with them',\n",
    "            'Percent of patients who gave their home health agency a rating of 9 or 10 on a scale from 0 (lowest) to 10 (highest)',\n",
    "            'Percent of patients who reported YES, they would definitely recommend the home health agency to friends and family']\n",
    "\n",
    "X = HHCAHPS_STATE.loc[:, features].values\n",
    "y = HHCAHPS_STATE.loc[:,target].values\n",
    "\n",
    "X = StandardScaler().fit_transform(X)"
   ]
  },
  {
   "cell_type": "code",
   "execution_count": 22,
   "metadata": {
    "collapsed": true,
    "extensions": {
     "jupyter_dashboards": {
      "version": 1,
      "views": {
       "grid_default": {
        "hidden": true
       },
       "report_default": {}
      }
     }
    }
   },
   "outputs": [],
   "source": [
    "from sklearn.decomposition import PCA\n",
    "pca = PCA(n_components=2)\n",
    "principalComponents = pca.fit_transform(X)\n",
    "principalDf = pd.DataFrame(data = principalComponents, columns = ['principal component 1', 'principal component 2'])"
   ]
  },
  {
   "cell_type": "code",
   "execution_count": 23,
   "metadata": {
    "extensions": {
     "jupyter_dashboards": {
      "version": 1,
      "views": {
       "grid_default": {
        "col": 6,
        "height": 7,
        "hidden": true,
        "row": 88,
        "width": 4
       },
       "report_default": {}
      }
     }
    }
   },
   "outputs": [
    {
     "data": {
      "text/html": [
       "<div>\n",
       "<style>\n",
       "    .dataframe thead tr:only-child th {\n",
       "        text-align: right;\n",
       "    }\n",
       "\n",
       "    .dataframe thead th {\n",
       "        text-align: left;\n",
       "    }\n",
       "\n",
       "    .dataframe tbody tr th {\n",
       "        vertical-align: top;\n",
       "    }\n",
       "</style>\n",
       "<table border=\"1\" class=\"dataframe\">\n",
       "  <thead>\n",
       "    <tr style=\"text-align: right;\">\n",
       "      <th></th>\n",
       "      <th>principal component 1</th>\n",
       "      <th>principal component 2</th>\n",
       "    </tr>\n",
       "  </thead>\n",
       "  <tbody>\n",
       "    <tr>\n",
       "      <th>0</th>\n",
       "      <td>-0.502204</td>\n",
       "      <td>-0.214989</td>\n",
       "    </tr>\n",
       "    <tr>\n",
       "      <th>1</th>\n",
       "      <td>-2.729470</td>\n",
       "      <td>0.526634</td>\n",
       "    </tr>\n",
       "    <tr>\n",
       "      <th>2</th>\n",
       "      <td>-1.874391</td>\n",
       "      <td>0.288714</td>\n",
       "    </tr>\n",
       "    <tr>\n",
       "      <th>3</th>\n",
       "      <td>1.863450</td>\n",
       "      <td>-0.327797</td>\n",
       "    </tr>\n",
       "    <tr>\n",
       "      <th>4</th>\n",
       "      <td>1.502384</td>\n",
       "      <td>0.527540</td>\n",
       "    </tr>\n",
       "  </tbody>\n",
       "</table>\n",
       "</div>"
      ],
      "text/plain": [
       "   principal component 1  principal component 2\n",
       "0              -0.502204              -0.214989\n",
       "1              -2.729470               0.526634\n",
       "2              -1.874391               0.288714\n",
       "3               1.863450              -0.327797\n",
       "4               1.502384               0.527540"
      ]
     },
     "execution_count": 23,
     "metadata": {},
     "output_type": "execute_result"
    }
   ],
   "source": [
    "principalDf.head()"
   ]
  },
  {
   "cell_type": "code",
   "execution_count": 24,
   "metadata": {
    "collapsed": true,
    "extensions": {
     "jupyter_dashboards": {
      "version": 1,
      "views": {
       "grid_default": {
        "hidden": true
       },
       "report_default": {}
      }
     }
    }
   },
   "outputs": [],
   "source": [
    "finalDf = pd.concat([principalDf, HHCAHPS_STATE[[target]]], axis = 1)"
   ]
  },
  {
   "cell_type": "code",
   "execution_count": 25,
   "metadata": {
    "extensions": {
     "jupyter_dashboards": {
      "version": 1,
      "views": {
       "grid_default": {
        "col": 6,
        "height": 7,
        "hidden": true,
        "row": 88,
        "width": 4
       },
       "report_default": {}
      }
     }
    }
   },
   "outputs": [
    {
     "data": {
      "text/html": [
       "<div>\n",
       "<style>\n",
       "    .dataframe thead tr:only-child th {\n",
       "        text-align: right;\n",
       "    }\n",
       "\n",
       "    .dataframe thead th {\n",
       "        text-align: left;\n",
       "    }\n",
       "\n",
       "    .dataframe tbody tr th {\n",
       "        vertical-align: top;\n",
       "    }\n",
       "</style>\n",
       "<table border=\"1\" class=\"dataframe\">\n",
       "  <thead>\n",
       "    <tr style=\"text-align: right;\">\n",
       "      <th></th>\n",
       "      <th>principal component 1</th>\n",
       "      <th>principal component 2</th>\n",
       "      <th>State</th>\n",
       "    </tr>\n",
       "  </thead>\n",
       "  <tbody>\n",
       "    <tr>\n",
       "      <th>0</th>\n",
       "      <td>-0.502204</td>\n",
       "      <td>-0.214989</td>\n",
       "      <td>AK</td>\n",
       "    </tr>\n",
       "    <tr>\n",
       "      <th>1</th>\n",
       "      <td>-2.729470</td>\n",
       "      <td>0.526634</td>\n",
       "      <td>AL</td>\n",
       "    </tr>\n",
       "    <tr>\n",
       "      <th>2</th>\n",
       "      <td>-1.874391</td>\n",
       "      <td>0.288714</td>\n",
       "      <td>AR</td>\n",
       "    </tr>\n",
       "    <tr>\n",
       "      <th>3</th>\n",
       "      <td>1.863450</td>\n",
       "      <td>-0.327797</td>\n",
       "      <td>AZ</td>\n",
       "    </tr>\n",
       "    <tr>\n",
       "      <th>4</th>\n",
       "      <td>1.502384</td>\n",
       "      <td>0.527540</td>\n",
       "      <td>CA</td>\n",
       "    </tr>\n",
       "  </tbody>\n",
       "</table>\n",
       "</div>"
      ],
      "text/plain": [
       "   principal component 1  principal component 2 State\n",
       "0              -0.502204              -0.214989    AK\n",
       "1              -2.729470               0.526634    AL\n",
       "2              -1.874391               0.288714    AR\n",
       "3               1.863450              -0.327797    AZ\n",
       "4               1.502384               0.527540    CA"
      ]
     },
     "execution_count": 25,
     "metadata": {},
     "output_type": "execute_result"
    }
   ],
   "source": [
    "finalDf.head()"
   ]
  },
  {
   "cell_type": "code",
   "execution_count": 252,
   "metadata": {
    "extensions": {
     "jupyter_dashboards": {
      "version": 1,
      "views": {
       "grid_default": {
        "col": 0,
        "height": 18,
        "hidden": false,
        "row": 118,
        "width": 6
       },
       "report_default": {}
      }
     }
    }
   },
   "outputs": [
    {
     "data": {
      "image/png": "[encoded data removed]",
      "text/plain": [
       "<matplotlib.figure.Figure at 0x7fe6934e6470>"
      ]
     },
     "metadata": {},
     "output_type": "display_data"
    }
   ],
   "source": [
    "\n",
    "y=finalDf['principal component 2']\n",
    "z=finalDf['principal component 1']\n",
    "n=states_names\n",
    "\n",
    "fig, ax = plt.subplots(figsize=(10,10))\n",
    "ax.scatter(z, y)\n",
    "\n",
    "for i, txt in enumerate(n):\n",
    "    ax.annotate(txt, (z[i],y[i]))"
   ]
  },
  {
   "cell_type": "code",
   "execution_count": 34,
   "metadata": {
    "extensions": {
     "jupyter_dashboards": {
      "version": 1,
      "views": {
       "grid_default": {
        "col": 6,
        "height": 17,
        "hidden": false,
        "row": 118,
        "width": 6
       },
       "report_default": {}
      }
     }
    }
   },
   "outputs": [
    {
     "data": {
      "image/png": "[encoded data removed]",
      "text/plain": [
       "<matplotlib.figure.Figure at 0x7f3be4cfe940>"
      ]
     },
     "metadata": {},
     "output_type": "display_data"
    }
   ],
   "source": [
    "## import seaborn as sns\n",
    "sns.set(color_codes=True)\n",
    "tips = finalDf\n",
    "fig, ax = plt.subplots()\n",
    "fig.set_size_inches(10, 10)\n",
    "ax = sns.regplot(x=\"principal component 1\", y=\"principal component 2\", data=tips)\n"
   ]
  },
  {
   "cell_type": "code",
   "execution_count": null,
   "metadata": {
    "collapsed": true,
    "extensions": {
     "jupyter_dashboards": {
      "version": 1,
      "views": {
       "grid_default": {
        "hidden": true
       },
       "report_default": {}
      }
     }
    }
   },
   "outputs": [],
   "source": []
  }
 ],
 "metadata": {
  "extensions": {
   "jupyter_dashboards": {
    "activeView": "grid_default",
    "version": 1,
    "views": {
     "grid_default": {
      "cellMargin": 10,
      "defaultCellHeight": 20,
      "maxColumns": 12,
      "name": "grid",
      "type": "grid"
     },
     "report_default": {
      "name": "report",
      "type": "report"
     }
    }
   }
  },
  "kernelspec": {
   "display_name": "Python 3",
   "language": "python",
   "name": "python3"
  },
  "language_info": {
   "codemirror_mode": {
    "name": "ipython",
    "version": 3
   },
   "file_extension": ".py",
   "mimetype": "text/x-python",
   "name": "python",
   "nbconvert_exporter": "python",
   "pygments_lexer": "ipython3",
   "version": "3.6.3"
  }
 },
 "nbformat": 4,
 "nbformat_minor": 2
}
